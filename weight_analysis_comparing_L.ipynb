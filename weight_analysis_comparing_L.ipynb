{
 "cells": [
  {
   "cell_type": "markdown",
   "metadata": {},
   "source": [
    "# Weight matrix analysis - Comparing $L=10, 36, 48, 100$"
   ]
  },
  {
   "cell_type": "code",
   "execution_count": 1,
   "metadata": {},
   "outputs": [],
   "source": [
    "import numpy as np\n",
    "import matplotlib.pyplot as plt\n",
    "import torch"
   ]
  },
  {
   "cell_type": "code",
   "execution_count": 113,
   "metadata": {},
   "outputs": [],
   "source": [
    "def plot_eigen(x1, x2, x3, x4, \n",
    "               y1, y2, y3, y4,\n",
    "               L1, L2, L3, L4,\n",
    "               loc_legend= 'lower left',\n",
    "               label_1= '$L=10$',\n",
    "               label_2= '$L=36$',\n",
    "               label_3= '$L=48$',\n",
    "               label_4= '$L=100$',\n",
    "               type_L= 'ALL',\n",
    "               xlabel= 'Index of the eigenvalue',\n",
    "               ylabel= 'Eigenvalues of ${\\cal W}{\\cal W}^{T}$',\n",
    "               SVD= False, \n",
    "               inset= True,\n",
    "               publication= False,\n",
    "               eps= False,\n",
    "               save= False):\n",
    "    \n",
    "    L1_str = str(L1)\n",
    "    L2_str = str(L2)\n",
    "    L3_str = str(L3)\n",
    "    L4_str = str(L4)\n",
    "    \n",
    "    if publication:\n",
    "        \n",
    "        fig, ax1 = plt.subplots(figsize=(3.375, 0.678*3.375))\n",
    "        plt.xticks(fontsize= 6)\n",
    "        plt.yticks(fontsize= 6)\n",
    "        markersize = 4.0\n",
    "        linewidth= 0.4\n",
    "        fontsize_l = 7.0\n",
    "        fontsize_t = 8.0\n",
    "        fontsize_lg= 5.0\n",
    "        capsize= 2.0   \n",
    "        elinewidth= 0.2\n",
    "        markeredgewidth = 0.2\n",
    "        \n",
    "        if eps:\n",
    "            if SVD:\n",
    "                path_fig = 'figures/PUB_W_svd_%s_L0%s_L0%s_L0%s_L%s.eps' % (type_L,L1_str,L2_str,L3_str,L4_str)\n",
    "            else:\n",
    "                path_fig = 'figures/PUB_WW_eigen_%s_L0%s_L0%s_L0%s_L%s.eps' % (type_L,L1_str,L2_str,L3_str,L4_str)\n",
    "        else:\n",
    "            if SVD:\n",
    "                path_fig = 'figures/PUB_W_svd_%s_L0%s_L0%s_L0%s_L%s.pdf' % (type_L,L1_str,L2_str,L3_str,L4_str)\n",
    "            else:\n",
    "                path_fig = 'figures/PUB_WW_eigen_%s_L0%s_L0%s_L0%s_L%s.pdf' % (type_L,L1_str,L2_str,L3_str,L4_str)\n",
    "            \n",
    "            \n",
    "        \n",
    "    else:\n",
    "        \n",
    "        fig, ax1 = plt.subplots()\n",
    "        \n",
    "        markersize= 10.0\n",
    "        linewidth= 0.8\n",
    "        fontsize_l= 12.0\n",
    "        fontsize_t= 12.0\n",
    "        fontsize_lg= 10.0\n",
    "        capsize= 5.0\n",
    "        elinewidth= 0.5\n",
    "        markeredgewidth= 0.5\n",
    "        \n",
    "        if eps:\n",
    "            if SVD:\n",
    "                path_fig = 'figures/W_svd_%s_L0%s_L0%s_L0%s_L%s.eps' % (type_L,L1_str,L2_str,L3_str,L4_str)\n",
    "            else:\n",
    "                path_fig = 'figures/WW_eigen_%s_L0%s_L0%s_L0%s_L%s.eps' % (type_L,L1_str,L2_str,L3_str,L4_str)\n",
    "        else:\n",
    "            if SVD:\n",
    "                path_fig = 'figures/W_svd_%s_L0%s_L0%s_L0%s_L%s.pdf' % (type_L,L1_str,L2_str,L3_str,L4_str)\n",
    "            else:\n",
    "                path_fig = 'figures/WW_eigen_%s_L0%s_L0%s_L0%s_L%s.pdf' % (type_L,L1_str,L2_str,L3_str,L4_str)\n",
    "                \n",
    "    ax1.plot(x1, y1, \n",
    "             marker= '.',\n",
    "             markersize= markersize,\n",
    "             linewidth= linewidth,\n",
    "             label= label_1)\n",
    "    \n",
    "    ax1.plot(x2, y2, \n",
    "             marker= '.',\n",
    "             markersize= markersize,\n",
    "             linewidth= linewidth,\n",
    "             label= label_2)\n",
    "        \n",
    "    ax1.plot(x3, y3, \n",
    "             marker= '.',\n",
    "             markersize= markersize,\n",
    "             linewidth= linewidth,\n",
    "             label= label_3)\n",
    "            \n",
    "    ax1.plot(x4, y4, \n",
    "             marker= '.',\n",
    "             markersize= markersize,\n",
    "             linewidth= linewidth,\n",
    "             label= label_4)\n",
    "    \n",
    "    if inset:\n",
    "        ax2.plot(x2, y2, 'o',\n",
    "                 markersize= markersize/10.,\n",
    "                 color= 'C1')\n",
    "        \n",
    "        ax2.plot(x3, y3, 'o',\n",
    "                 markersize= markersize/10.,\n",
    "                 color= 'C2')\n",
    "            \n",
    "        ax2.plot(x4, y4, 'o',\n",
    "                 markersize= markersize/10.,\n",
    "                 color= 'C3')\n",
    "    \n",
    "        ax2.tick_params(axis='x', labelsize=4)\n",
    "        ax2.tick_params(axis='y', labelsize=4)\n",
    "    \n",
    "        ax2.axhline(y= 0, linestyle= ':', linewidth= 0.4, color= 'black')\n",
    "    \n",
    "    \n",
    "    ax1.set_xlabel(xlabel, fontsize= fontsize_l)\n",
    "    ax1.set_ylabel(ylabel, fontsize= fontsize_l)\n",
    "        \n",
    "    ax1.legend(fontsize= fontsize_lg,\n",
    "               loc= loc_legend)\n",
    "\n",
    "    if save:\n",
    "        if eps:\n",
    "            fig.savefig(path_fig, bbox_inches='tight', dpi= 1200)\n",
    "        else:\n",
    "            fig.savefig(path_fig, bbox_inches='tight')"
   ]
  },
  {
   "cell_type": "markdown",
   "metadata": {},
   "source": [
    "# Comparing eigenvalues of $ {\\cal W} {\\cal W}^T$"
   ]
  },
  {
   "cell_type": "code",
   "execution_count": 5,
   "metadata": {},
   "outputs": [],
   "source": [
    "eigen_ALL_L010 = torch.load('weight_analysis/L010/L010_ALL_WW_eigen_eigen_val.pt')\n",
    "eigen_ALL_L036 = torch.load('weight_analysis/L036/L036_ALL_WW_eigen_eigen_val.pt')\n",
    "eigen_ALL_L048 = torch.load('weight_analysis/L048/L048_ALL_WW_eigen_eigen_val.pt')\n",
    "eigen_ALL_L100 = torch.load('weight_analysis/L100/L100_ALL_WW_eigen_eigen_val.pt')"
   ]
  },
  {
   "cell_type": "code",
   "execution_count": 8,
   "metadata": {},
   "outputs": [],
   "source": [
    "L1 = 10\n",
    "L2 = 36\n",
    "L3 = 48\n",
    "L4 = 100"
   ]
  },
  {
   "cell_type": "code",
   "execution_count": 17,
   "metadata": {},
   "outputs": [],
   "source": [
    "x_L010 = np.flip(np.arange(L1*L1)) / (L1*L1)\n",
    "x_L036 = np.flip(np.arange(L2*L2)) / (L2*L2)\n",
    "x_L048 = np.flip(np.arange(L3*L3)) / (L3*L3)\n",
    "x_L100 = np.flip(np.arange(L4*L4)) / (L4*L4)\n",
    "\n",
    "y_L010 =  np.sort(eigen_ALL_L010[:,0].numpy())\n",
    "y_L036 =  np.sort(eigen_ALL_L036[:,0].numpy())\n",
    "y_L048 =  np.sort(eigen_ALL_L048[:,0].numpy())\n",
    "y_L100 =  np.sort(eigen_ALL_L100[:,0].numpy())"
   ]
  },
  {
   "cell_type": "code",
   "execution_count": 104,
   "metadata": {},
   "outputs": [
    {
     "data": {
      "image/png": "[encoded data removed]",
      "text/plain": [
       "<Figure size 432x288 with 2 Axes>"
      ]
     },
     "metadata": {
      "needs_background": "light"
     },
     "output_type": "display_data"
    }
   ],
   "source": [
    "plot_eigen(x_L010, x_L036, x_L048, x_L100,\n",
    "           y_L010, y_L036, y_L048, y_L100,\n",
    "           L1, L2, L3, L4,\n",
    "           xlabel= 'Index of the eigenvalue (normalized)',\n",
    "           ylabel= 'Eigenvalue of ${\\cal W}{\\cal W}^{T}$',\n",
    "           SVD= False,\n",
    "           publication= False,\n",
    "           eps= False,\n",
    "           save= False)"
   ]
  },
  {
   "cell_type": "markdown",
   "metadata": {},
   "source": [
    "# Comparing singular values of $ {\\cal W}$"
   ]
  },
  {
   "cell_type": "code",
   "execution_count": 106,
   "metadata": {},
   "outputs": [],
   "source": [
    "s_L010 = torch.load('weight_analysis/L010/L010_ALL_W_svd_singular_values.pt')\n",
    "s_L036 = torch.load('weight_analysis/L036/L036_ALL_W_svd_singular_values.pt')\n",
    "s_L048 = torch.load('weight_analysis/L048/L048_ALL_W_svd_singular_values.pt')\n",
    "s_L100 = torch.load('weight_analysis/L100/L100_ALL_W_svd_singular_values.pt')"
   ]
  },
  {
   "cell_type": "code",
   "execution_count": 121,
   "metadata": {},
   "outputs": [
    {
     "data": {
      "image/png": "[encoded data removed]",
      "text/plain": [
       "<Figure size 432x288 with 1 Axes>"
      ]
     },
     "metadata": {
      "needs_background": "light"
     },
     "output_type": "display_data"
    }
   ],
   "source": [
    "plot_eigen(x_L010, x_L036, x_L048, x_L100,\n",
    "           np.sort(s_L010.numpy()), np.sort(s_L036.numpy()), \n",
    "           np.sort(s_L048.numpy()), np.sort(s_L100.numpy()),\n",
    "           L1, L2, L3, L4,\n",
    "           xlabel= 'Index of the singular value (normalized)',\n",
    "           ylabel= 'Singular value of ${\\cal W}$',\n",
    "           loc_legend= 'upper right',\n",
    "           SVD= True,\n",
    "           inset= False,\n",
    "           publication= False,\n",
    "           eps= False,\n",
    "           save= False)"
   ]
  },
  {
   "cell_type": "code",
   "execution_count": null,
   "metadata": {},
   "outputs": [],
   "source": []
  }
 ],
 "metadata": {
  "kernelspec": {
   "display_name": "Python 3",
   "language": "python",
   "name": "python3"
  },
  "language_info": {
   "codemirror_mode": {
    "name": "ipython",
    "version": 3
   },
   "file_extension": ".py",
   "mimetype": "text/x-python",
   "name": "python",
   "nbconvert_exporter": "python",
   "pygments_lexer": "ipython3",
   "version": "3.7.3"
  }
 },
 "nbformat": 4,
 "nbformat_minor": 2
}
