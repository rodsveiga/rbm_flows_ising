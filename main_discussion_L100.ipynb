{
 "cells": [
  {
   "cell_type": "markdown",
   "metadata": {},
   "source": [
    "# The RBM flow and the Critical Temperature of Ising Models\n",
    "\n",
    "This is the notebook for the paper X.\n",
    "\n",
    "Firstly, we import the necessary Python packages."
   ]
  },
  {
   "cell_type": "code",
   "execution_count": 1,
   "metadata": {},
   "outputs": [],
   "source": [
    "import numpy as np\n",
    "import pandas as pd\n",
    "import matplotlib.pyplot as plt\n",
    "import pickle\n",
    "\n",
    "import torch\n",
    "import torch.nn as nn\n",
    "torch.manual_seed(12)\n",
    "\n",
    "from MC_Ising2D import IsingMC\n",
    "from net import Net\n",
    "from _rbm import RBM\n",
    "L = 100\n",
    "Tc_Ons = 2 / ( np.log(1 + np.sqrt(2)) )\n",
    "Tc_MF = 4.0"
   ]
  },
  {
   "cell_type": "markdown",
   "metadata": {},
   "source": [
    "The neural network thermometer is called by the following function."
   ]
  },
  {
   "cell_type": "code",
   "execution_count": 13,
   "metadata": {},
   "outputs": [],
   "source": [
    "def thermometer(flow_,\n",
    "                ising_data,\n",
    "                L= 100,\n",
    "                x= 0,\n",
    "                step= 2,\n",
    "                save= False,\n",
    "                Tzero= True, \n",
    "                x_text= 0,\n",
    "                y_text= 0.15,\n",
    "                errorbar= True,\n",
    "                publication= False,\n",
    "                loc_legend= 'lower right',\n",
    "                NN_path= 'NN_trained_models/L100_NN_Ising2D_MC.pt'):\n",
    "    \n",
    "    net = Net()\n",
    "    net = torch.load(NN_path)  \n",
    "    \n",
    "    if publication:\n",
    "        plt.figure(figsize=(3.375, 0.678*3.375))\n",
    "        plt.xticks(fontsize= 6)\n",
    "        plt.yticks(fontsize= 6)\n",
    "        markersize = 4.0\n",
    "        linewidth= 0.4\n",
    "        fontsize_l = 7.0\n",
    "        fontsize_t = 8.0\n",
    "        fontsize_lg= 5.0\n",
    "        capsize= 2.0   \n",
    "        elinewidth= 0.2\n",
    "        markeredgewidth = 0.2\n",
    "        \n",
    "    else:\n",
    "        markersize= 10.0\n",
    "        linewidth= 0.8\n",
    "        fontsize_l= 12.0\n",
    "        fontsize_t= 12.0\n",
    "        fontsize_lg= 10.0\n",
    "        capsize= 5.0\n",
    "        elinewidth= 0.5\n",
    "        markeredgewidth= 0.5\n",
    "       \n",
    "    for j in range(0, len(flow_) - x, step):\n",
    "        \n",
    "        prediction = net(flow_[j])\n",
    "        \n",
    "        if errorbar:\n",
    "                   \n",
    "            plt.errorbar(np.sort(ising_data['temp'].value_counts().index),\n",
    "                         prediction.cpu().mean(dim=0).data.numpy(),\n",
    "                         yerr= prediction.cpu().std(dim=0).data.numpy(),\n",
    "                         lolims= 0.0,\n",
    "                         marker= '.',\n",
    "                         markersize= markersize,\n",
    "                         linewidth= linewidth,\n",
    "                         capsize= capsize,\n",
    "                         elinewidth= elinewidth,\n",
    "                         markeredgewidth= markeredgewidth,\n",
    "                         label= 'It = %d' % j )\n",
    "            \n",
    "        else:\n",
    "            \n",
    "            plt.plot(np.sort(ising_data['temp'].value_counts().index),\n",
    "                     prediction.cpu().mean(dim=0).data.numpy(),\n",
    "                     marker= '.',\n",
    "                     markersize= markersize,\n",
    "                     linewidth= linewidth,\n",
    "                     label= 'It = %d' % j )\n",
    "        \n",
    "        \n",
    "        plt.axvline(x= Tc_Ons, linestyle= ':', linewidth= 0.8, color= 'black')\n",
    "        \n",
    "        plt.xlabel('Temperature scale', fontsize= fontsize_l)\n",
    "        plt.ylabel('Softmax probability', fontsize= fontsize_l)\n",
    "        \n",
    "    plt.legend(fontsize= fontsize_lg,\n",
    "               loc= loc_legend)\n",
    "    \n",
    "    if Tzero:\n",
    "        plt.text(x= x_text, y= y_text, s= '$T_0 = 0$', fontsize= fontsize_t)\n",
    "    else:\n",
    "        plt.text(x= x_text, y= y_text, s= '$T_0  =\\infty$', fontsize= fontsize_t)\n",
    "        \n",
    "    plt.ylim(0.0, plt.ylim()[1])\n",
    "    \n",
    "    if save:\n",
    "        if Tzero:\n",
    "            if publication:\n",
    "                path_fig = 'figures/PUB_flow_L%d_ONLY_Tin_zero.pdf' % L\n",
    "                plt.savefig(path_fig , bbox_inches='tight')\n",
    "            else:\n",
    "                path_fig = 'figures/flow_L%d_ONLY_Tin_zero.pdf' % L\n",
    "                plt.savefig(path_fig, bbox_inches='tight')\n",
    "        else:\n",
    "            if publication:\n",
    "                path_fig = 'figures/PUB_flow_L%d_ONLY_Tin_inf.pdf' % L\n",
    "                plt.savefig(path_fig , bbox_inches='tight')\n",
    "            else:\n",
    "                path_fig = 'figures/flow_L%d_ONLY_Tin_inf.pdf' % L\n",
    "                plt.savefig(path_fig , bbox_inches='tight')\n",
    "                           \n",
    "    plt.show()"
   ]
  },
  {
   "cell_type": "markdown",
   "metadata": {},
   "source": [
    "The magnetization can be also be analyzed during flow dynamics."
   ]
  },
  {
   "cell_type": "code",
   "execution_count": 7,
   "metadata": {},
   "outputs": [],
   "source": [
    "def magnetization(flow_low,\n",
    "                  flow_high,\n",
    "                  L= 100,\n",
    "                  errorbar= True,\n",
    "                  Tzero= True,\n",
    "                  x= 0, \n",
    "                  step= 1,\n",
    "                  loc_legend= 'lower right',\n",
    "                  save= False, \n",
    "                  publication= False):\n",
    "              \n",
    "    mag_low= []\n",
    "    er_bar_low= []\n",
    "    x_axis= [] \n",
    "    \n",
    "    for j in range(0, len(flow_low)- x, step):\n",
    "        flow = 2*flow_low[j] - 1\n",
    "        mag = (abs(flow.sum(1))/(L*L)).mean()\n",
    "        error_bar = (abs(flow.sum(1))/(L*L)).std()\n",
    "        \n",
    "        mag_low.append(mag.item())\n",
    "        er_bar_low.append(error_bar.item())\n",
    "        x_axis.append(j)\n",
    "        \n",
    "    mag_high= []\n",
    "    er_bar_high= []\n",
    "        \n",
    " \n",
    "    for j in range(0, len(flow_high)- x, step):\n",
    "        flow = 2*flow_high[j] - 1\n",
    "        mag = (abs(flow.sum(1))/(L*L)).mean()\n",
    "        error_bar = (abs(flow.sum(1))/(L*L)).std()\n",
    "        \n",
    "        mag_high.append(mag.item())\n",
    "        er_bar_high.append(error_bar.item())\n",
    "  \n",
    "\n",
    "    if publication:\n",
    "        plt.figure(figsize=(3.375, 0.678*3.375))\n",
    "        plt.xticks(fontsize= 6)\n",
    "        plt.yticks(fontsize= 6)\n",
    "        markersize = 4.0\n",
    "        linewidth= 0.4\n",
    "        fontsize_l = 7.0\n",
    "        fontsize_t = 8.0\n",
    "        fontsize_lg= 5.0\n",
    "        capsize= 2.0   \n",
    "        elinewidth= 0.2\n",
    "        markeredgewidth = 0.2\n",
    "        \n",
    "    else:\n",
    "        markersize = 10.0\n",
    "        linewidth= 0.8\n",
    "        fontsize_l = 12.0\n",
    "        fontsize_t = 12.0\n",
    "        fontsize_lg= 10.0\n",
    "        capsize= 5.0\n",
    "        elinewidth= 0.5\n",
    "        markeredgewidth = 0.5\n",
    "        \n",
    "    if errorbar:\n",
    "               \n",
    "        plt.errorbar(x_axis,\n",
    "                     mag_low,\n",
    "                     yerr= er_bar_low,\n",
    "                     label= '$T_{0}=0$',\n",
    "                     marker= '.',\n",
    "                     markersize= markersize,\n",
    "                     linewidth= linewidth,\n",
    "                     capsize= capsize,\n",
    "                     elinewidth= elinewidth,\n",
    "                     markeredgewidth= markeredgewidth)\n",
    "        \n",
    "        plt.errorbar(x_axis,\n",
    "                     mag_high,\n",
    "                     yerr= er_bar_high,\n",
    "                     label= '$T_{0}  = \\infty$',\n",
    "                     marker= '.',\n",
    "                     markersize= markersize,\n",
    "                     linewidth= linewidth,\n",
    "                     capsize= capsize,\n",
    "                     elinewidth= elinewidth,\n",
    "                     markeredgewidth= markeredgewidth)\n",
    "    else:\n",
    "        \n",
    "        plt.plot(x_axis, \n",
    "                 mag_low,\n",
    "                 label= '$T_{0}=0$',\n",
    "                 marker= '.',\n",
    "                 markersize= markersize,\n",
    "                 linewidth= linewidth)\n",
    "        \n",
    "        plt.plot(x_axis, \n",
    "                 mag_high,\n",
    "                 label= '$T_{0} = \\infty$',\n",
    "                 marker= '.',\n",
    "                 markersize= markersize,\n",
    "                 linewidth= linewidth)\n",
    "        \n",
    "    plt.xlabel('Flow iteration', fontsize= fontsize_l)\n",
    "    plt.ylabel('$m$', fontsize= fontsize_l)\n",
    "    \n",
    "    plt.legend(fontsize= fontsize_t,\n",
    "               loc= loc_legend)\n",
    "    \n",
    "    #plt.ylim(0.0, plt.ylim()[1])\n",
    "    \n",
    "    if save:\n",
    "        if publication:\n",
    "            path_fig = 'figures/PUB_mag_flow_L%d_ONLY.pdf' % L\n",
    "            plt.savefig(path_fig , bbox_inches='tight')\n",
    "        else:\n",
    "            path_fig = 'figures/mag_flow_L%d_ONLY.pdf' % L\n",
    "            plt.savefig(path_fig, bbox_inches='tight')\n",
    "    \n",
    "    plt.show()"
   ]
  },
  {
   "cell_type": "markdown",
   "metadata": {},
   "source": [
    "## Scale-invariant feature extraction\n",
    "\n",
    "\n",
    "### Loading Ising data\n",
    "\n",
    "The first step is to load the Ising data generated by Monte Carlo procedure. The file `data/L100_1000sweeps.pkl` was constructed considering a square lattice $L\\times L$, with $L=100$. There are 1000 spins configurations for each of 29 different temperatures $ T/J = 1, 1.1, 1.2, ..., 3.5 $ and $ T/J = 2.259, 2.269, 2.279$."
   ]
  },
  {
   "cell_type": "code",
   "execution_count": 4,
   "metadata": {},
   "outputs": [
    {
     "data": {
      "text/html": [
       "<div>\n",
       "<style scoped>\n",
       "    .dataframe tbody tr th:only-of-type {\n",
       "        vertical-align: middle;\n",
       "    }\n",
       "\n",
       "    .dataframe tbody tr th {\n",
       "        vertical-align: top;\n",
       "    }\n",
       "\n",
       "    .dataframe thead th {\n",
       "        text-align: right;\n",
       "    }\n",
       "</style>\n",
       "<table border=\"1\" class=\"dataframe\">\n",
       "  <thead>\n",
       "    <tr style=\"text-align: right;\">\n",
       "      <th></th>\n",
       "      <th>energy</th>\n",
       "      <th>magn</th>\n",
       "      <th>state</th>\n",
       "      <th>temp</th>\n",
       "    </tr>\n",
       "  </thead>\n",
       "  <tbody>\n",
       "    <tr>\n",
       "      <th>0</th>\n",
       "      <td>-6656</td>\n",
       "      <td>176</td>\n",
       "      <td>[1, 0, 0, 1, 1, 1, 1, 1, 1, 1, 0, 1, 1, 1, 1, ...</td>\n",
       "      <td>3.5</td>\n",
       "    </tr>\n",
       "    <tr>\n",
       "      <th>1</th>\n",
       "      <td>-6872</td>\n",
       "      <td>-248</td>\n",
       "      <td>[1, 1, 1, 0, 1, 0, 1, 1, 1, 0, 1, 0, 0, 1, 1, ...</td>\n",
       "      <td>3.5</td>\n",
       "    </tr>\n",
       "    <tr>\n",
       "      <th>2</th>\n",
       "      <td>-6812</td>\n",
       "      <td>544</td>\n",
       "      <td>[1, 1, 1, 1, 1, 1, 1, 1, 1, 1, 0, 0, 1, 1, 0, ...</td>\n",
       "      <td>3.5</td>\n",
       "    </tr>\n",
       "    <tr>\n",
       "      <th>3</th>\n",
       "      <td>-6616</td>\n",
       "      <td>-166</td>\n",
       "      <td>[0, 0, 0, 1, 0, 1, 1, 1, 0, 1, 1, 1, 1, 1, 0, ...</td>\n",
       "      <td>3.5</td>\n",
       "    </tr>\n",
       "    <tr>\n",
       "      <th>4</th>\n",
       "      <td>-6660</td>\n",
       "      <td>-68</td>\n",
       "      <td>[0, 0, 0, 1, 0, 1, 1, 1, 1, 1, 1, 1, 1, 0, 1, ...</td>\n",
       "      <td>3.5</td>\n",
       "    </tr>\n",
       "  </tbody>\n",
       "</table>\n",
       "</div>"
      ],
      "text/plain": [
       "   energy  magn                                              state  temp\n",
       "0   -6656   176  [1, 0, 0, 1, 1, 1, 1, 1, 1, 1, 0, 1, 1, 1, 1, ...   3.5\n",
       "1   -6872  -248  [1, 1, 1, 0, 1, 0, 1, 1, 1, 0, 1, 0, 0, 1, 1, ...   3.5\n",
       "2   -6812   544  [1, 1, 1, 1, 1, 1, 1, 1, 1, 1, 0, 0, 1, 1, 0, ...   3.5\n",
       "3   -6616  -166  [0, 0, 0, 1, 0, 1, 1, 1, 0, 1, 1, 1, 1, 1, 0, ...   3.5\n",
       "4   -6660   -68  [0, 0, 0, 1, 0, 1, 1, 1, 1, 1, 1, 1, 1, 0, 1, ...   3.5"
      ]
     },
     "execution_count": 4,
     "metadata": {},
     "output_type": "execute_result"
    }
   ],
   "source": [
    "ising_data = pd.read_pickle('data/L100_Ising2D_MC.pkl')\n",
    "ising_data.head()"
   ]
  },
  {
   "cell_type": "markdown",
   "metadata": {},
   "source": [
    "In the thermodynamic limit $( L^2 \\rightarrow \\infty )$, the isotropic Ising model in a square lattice was analytically solved by [Lars Onsager](https://en.wikipedia.org/wiki/Lars_Onsager) in [1944](https://journals.aps.org/pr/abstract/10.1103/PhysRev.65.117). In this limit, the model show spontaneous magnetization for $ T < T_c$, with $T_c$ given by \n",
    "\n",
    "$$ \\frac{T_c}{J} = \\frac{2}{\\log\\left(1 + \\sqrt{ 2}\\right)} \\approx 2.269185  \\;. $$\n",
    "\n",
    "The temperatures values near $ T_c$ were included in the dataset just to get a better visualization (which is a sanity check) of the Monte Carlo results for thermodynamics quantities. They are not necessary for the present discussion, as pointed out by the paper [Scale-invariant Feature Extraction of Neural Network and Renormalization Group Flow](https://arxiv.org/abs/1801.07172)."
   ]
  },
  {
   "cell_type": "code",
   "execution_count": 5,
   "metadata": {},
   "outputs": [
    {
     "name": "stdout",
     "output_type": "stream",
     "text": [
      "Method fit will construct states to the following temperatures: \n",
      "[3.5        3.4        3.3        3.2        3.1        3.\n",
      " 2.9        2.8        2.7        2.6        2.5        2.4\n",
      " 2.3        2.27918531 2.26918531 2.25918531 2.2        2.1\n",
      " 2.         1.9        1.8        1.7        1.6        1.5\n",
      " 1.4        1.3        1.2        1.1        1.        ]\n"
     ]
    },
    {
     "data": {
      "image/png": "[encoded data removed]",
      "text/plain": [
       "<Figure size 864x648 with 4 Axes>"
      ]
     },
     "metadata": {},
     "output_type": "display_data"
    }
   ],
   "source": [
    "IsingMC(L= 100).plot_thermodynamics(spin_MC= ising_data, Tc_scaled= False)"
   ]
  },
  {
   "cell_type": "markdown",
   "metadata": {},
   "source": [
    "### Flow from RBM trained with 29 different temperatures - CHANGE HERE TO $L=100$"
   ]
  },
  {
   "cell_type": "code",
   "execution_count": null,
   "metadata": {},
   "outputs": [],
   "source": [
    "rbm = RBM()\n",
    "rbm = torch.load('RBM_trained_models/RBM_model_T_complete_nv100_nh100_lr1.0E-02_k1_bsize100_nepochs8000.pt')"
   ]
  },
  {
   "cell_type": "markdown",
   "metadata": {},
   "source": [
    "#### Initial temperature: $T= 0$"
   ]
  },
  {
   "cell_type": "code",
   "execution_count": null,
   "metadata": {},
   "outputs": [],
   "source": [
    "n_states = 1000\n",
    "\n",
    "v0 = nn.init.constant_(torch.empty(n_states, L*L),\n",
    "                       val= 1.0)"
   ]
  },
  {
   "cell_type": "code",
   "execution_count": null,
   "metadata": {},
   "outputs": [],
   "source": [
    "flow = rbm.flow(n_it_flow= 40, vk= v0)"
   ]
  },
  {
   "cell_type": "markdown",
   "metadata": {},
   "source": [
    "Perhaps we will be needing this flow for further analysis, the we save it in a pickle file."
   ]
  },
  {
   "cell_type": "code",
   "execution_count": null,
   "metadata": {},
   "outputs": [],
   "source": [
    "with open('RBM_flows/rbm_flow_L010_ALL_Tin_zero_it040.pkl', 'wb') as f:\n",
    "    pickle.dump(flow, f)"
   ]
  },
  {
   "cell_type": "markdown",
   "metadata": {},
   "source": [
    "Note that we use a [CUDA tensor type](https://pytorch.org/docs/stable/cuda.html), which implements GPU computation. If a GPU is not available, one should just withdraw the `cuda()` method."
   ]
  },
  {
   "cell_type": "code",
   "execution_count": null,
   "metadata": {},
   "outputs": [],
   "source": [
    "flow_ = [ x.cuda() for x in flow ]"
   ]
  },
  {
   "cell_type": "markdown",
   "metadata": {},
   "source": [
    "Temperature measurement in the defined temperature scale."
   ]
  },
  {
   "cell_type": "code",
   "execution_count": null,
   "metadata": {
    "scrolled": false
   },
   "outputs": [],
   "source": [
    "thermometer(flow_,\n",
    "            ising_data,\n",
    "            L= 10,\n",
    "            x= 15,\n",
    "            step= 5,\n",
    "            Tzero= True,\n",
    "            x_text= 0,\n",
    "            y_text= 0.15,\n",
    "            publication= False,\n",
    "            errorbar= True,\n",
    "            save= False,\n",
    "            loc_legend= 'upper right',\n",
    "            NN_path= 'NN_trained_models/L010_NN_Ising2D_MC.pt')"
   ]
  },
  {
   "cell_type": "markdown",
   "metadata": {},
   "source": [
    "Saving the figure with the predefined pattern for publication."
   ]
  },
  {
   "cell_type": "code",
   "execution_count": null,
   "metadata": {},
   "outputs": [],
   "source": [
    "thermometer(flow_,\n",
    "            ising_data,\n",
    "            L= 10,\n",
    "            x= 15,\n",
    "            step= 5,\n",
    "            Tzero= True,\n",
    "            x_text= 0,\n",
    "            y_text= 0.15,\n",
    "            publication= True,\n",
    "            errorbar= True,\n",
    "            save= False,\n",
    "            loc_legend= 'upper right',\n",
    "            NN_path= 'NN_trained_models/L010_NN_Ising2D_MC.pt')"
   ]
  },
  {
   "cell_type": "markdown",
   "metadata": {},
   "source": [
    "#### Initial temperature: $T = \\infty$"
   ]
  },
  {
   "cell_type": "code",
   "execution_count": null,
   "metadata": {},
   "outputs": [],
   "source": [
    "L = 10\n",
    "nstates = 1000\n",
    "\n",
    "up = nn.init.constant_(torch.empty(int(L*L/2)),\n",
    "                                     val= 1.0)\n",
    "down = nn.init.constant_(torch.empty(int(L*L/2)),\n",
    "                                     val= 0.0)\n",
    "\n",
    "up_down = torch.cat((up,down), 0)\n",
    "\n",
    "v0 = up_down.reshape(1, up_down.shape[0])\n",
    "\n",
    "for j in range(nstates - 1):\n",
    "    \n",
    "    v0_ = up_down[torch.randperm(up_down.shape[0]) ]\n",
    "    \n",
    "    v0 = torch.cat( ( v0, v0_.reshape(1, v0_.shape[0])), 0 )"
   ]
  },
  {
   "cell_type": "code",
   "execution_count": null,
   "metadata": {},
   "outputs": [],
   "source": [
    "flow = rbm.flow(n_it_flow= 40, vk= v0)"
   ]
  },
  {
   "cell_type": "markdown",
   "metadata": {},
   "source": [
    "Perhaps we will be needing this flow for further analysis, the we save it in a pickle file."
   ]
  },
  {
   "cell_type": "code",
   "execution_count": null,
   "metadata": {},
   "outputs": [],
   "source": [
    "with open('RBM_flows/rbm_flow_L010_ALL_Tin_inf_it040.pkl', 'wb') as f:\n",
    "    pickle.dump(flow, f)"
   ]
  },
  {
   "cell_type": "markdown",
   "metadata": {},
   "source": [
    "Note that we use a [CUDA tensor type](https://pytorch.org/docs/stable/cuda.html), which implements GPU computation. If a GPU is not available, one should just withdraw the `cuda()` method."
   ]
  },
  {
   "cell_type": "code",
   "execution_count": null,
   "metadata": {},
   "outputs": [],
   "source": [
    "flow__ = [ x.cuda() for x in flow ]"
   ]
  },
  {
   "cell_type": "markdown",
   "metadata": {},
   "source": [
    "Temperature measurement in the defined temperature scale."
   ]
  },
  {
   "cell_type": "code",
   "execution_count": null,
   "metadata": {},
   "outputs": [],
   "source": [
    "thermometer(flow__,\n",
    "            ising_data,\n",
    "            L= 100,\n",
    "            x= 15,\n",
    "            step= 5,\n",
    "            Tzero= False,\n",
    "            x_text= 5.0,\n",
    "            y_text= 0.2,\n",
    "            publication= False,\n",
    "            errorbar= True,\n",
    "            save= False,\n",
    "            loc_legend= 'upper left',\n",
    "            NN_path= 'NN_trained_models/L010_NN_Ising2D_MC.pt')"
   ]
  },
  {
   "cell_type": "markdown",
   "metadata": {},
   "source": [
    "Saving the figure with the predefined pattern for publication."
   ]
  },
  {
   "cell_type": "code",
   "execution_count": null,
   "metadata": {},
   "outputs": [],
   "source": [
    "thermometer(flow__,\n",
    "            ising_data,\n",
    "            L= 100,\n",
    "            x= 15,\n",
    "            step= 5,\n",
    "            Tzero= False,\n",
    "            x_text= 5.0,\n",
    "            y_text= 0.2,\n",
    "            publication= True,\n",
    "            errorbar= True,\n",
    "            save= False,\n",
    "            loc_legend= 'upper left',\n",
    "            NN_path= 'NN_trained_models/L010_NN_Ising2D_MC.pt')"
   ]
  },
  {
   "cell_type": "markdown",
   "metadata": {},
   "source": [
    "We also the dynamics of the magnetization."
   ]
  },
  {
   "cell_type": "code",
   "execution_count": null,
   "metadata": {},
   "outputs": [],
   "source": [
    "magnetization(flow_low= flow_,\n",
    "              flow_high= flow__,\n",
    "              L= 100,\n",
    "              errorbar= True,\n",
    "              Tzero= True,\n",
    "              x = 0,\n",
    "              save= False, \n",
    "              publication= False)"
   ]
  },
  {
   "cell_type": "code",
   "execution_count": null,
   "metadata": {},
   "outputs": [],
   "source": [
    "magnetization(flow_low= flow_,\n",
    "              flow_high= flow__,\n",
    "              L= 100,\n",
    "              errorbar= True,\n",
    "              Tzero= True,\n",
    "              x = 0,\n",
    "              save= False, \n",
    "              publication= True)"
   ]
  },
  {
   "cell_type": "markdown",
   "metadata": {},
   "source": [
    "## Flow from RBM trained only with $T=0$ and $ T = \\infty$"
   ]
  },
  {
   "cell_type": "markdown",
   "metadata": {},
   "source": [
    "In order to investigate the RBM flow in an extreme situation, we have trained the machine in an dataset composed only by frozen and random states. This still satisfies the condition shown in the work [Scale-invariant Feature Extraction of Neural Network and Renormalization Group Flow](https://arxiv.org/abs/1801.07172): the RBM flow would go towards the critical value if the data training set has states with temperature values less and greater than the critical one.\n",
    "\n",
    "It is crucial to note that, since the visible layer is always fed with an unidimensional vector (an array is transformed in a vector to be fed in the visible layer), the machine does not have any geometric information about the lattice in this case."
   ]
  },
  {
   "cell_type": "markdown",
   "metadata": {},
   "source": [
    "### RBM flow"
   ]
  },
  {
   "cell_type": "code",
   "execution_count": 8,
   "metadata": {},
   "outputs": [],
   "source": [
    "rbm = RBM()\n",
    "rbm = torch.load('RBM_trained_models/RBM_model_T_zero_inf_nv10000_nh10000_lr1.0E-03_k1_bsize100_nepochs1000.pt')"
   ]
  },
  {
   "cell_type": "markdown",
   "metadata": {},
   "source": [
    "#### Initial temperature: $T= 0$"
   ]
  },
  {
   "cell_type": "code",
   "execution_count": 7,
   "metadata": {},
   "outputs": [],
   "source": [
    "n_states = 1000\n",
    "\n",
    "v0 = nn.init.constant_(torch.empty(n_states, L*L),\n",
    "                       val= 1.0)"
   ]
  },
  {
   "cell_type": "code",
   "execution_count": 8,
   "metadata": {},
   "outputs": [],
   "source": [
    "flow = rbm.flow(n_it_flow= 40, vk= v0)"
   ]
  },
  {
   "cell_type": "markdown",
   "metadata": {},
   "source": [
    "Perhaps we will be needing this flow for further analysis, the we save it in a pickle file."
   ]
  },
  {
   "cell_type": "code",
   "execution_count": 20,
   "metadata": {},
   "outputs": [],
   "source": [
    "with open('RBM_flows/rbm_flow_L100_ONLY_Tin_zero_it040.pkl', 'wb') as f:\n",
    "    pickle.dump(flow, f)"
   ]
  },
  {
   "cell_type": "markdown",
   "metadata": {},
   "source": [
    "Note that we use a [CUDA tensor type](https://pytorch.org/docs/stable/cuda.html), which implements GPU computation. If a GPU is not available, one should just withdraw the `cuda()` method."
   ]
  },
  {
   "cell_type": "code",
   "execution_count": 9,
   "metadata": {},
   "outputs": [],
   "source": [
    "flow_ = [ x.cuda() for x in flow ]"
   ]
  },
  {
   "cell_type": "markdown",
   "metadata": {},
   "source": [
    "Temperature measurement in the defined temperature scale."
   ]
  },
  {
   "cell_type": "code",
   "execution_count": 19,
   "metadata": {},
   "outputs": [
    {
     "name": "stderr",
     "output_type": "stream",
     "text": [
      "/home/rodrigo/anaconda3/lib/python3.6/site-packages/torch/serialization.py:425: SourceChangeWarning: source code of class 'net.Net' has changed. you can retrieve the original source code by accessing the object's source attribute or set `torch.nn.Module.dump_patches = True` and use the patch tool to revert the changes.\n",
      "  warnings.warn(msg, SourceChangeWarning)\n"
     ]
    },
    {
     "data": {
      "image/png": "[encoded data removed]",
      "text/plain": [
       "<Figure size 432x288 with 1 Axes>"
      ]
     },
     "metadata": {},
     "output_type": "display_data"
    }
   ],
   "source": [
    "thermometer(flow_,\n",
    "            ising_data,\n",
    "            L= 100,\n",
    "            x= 0,\n",
    "            step= 5,\n",
    "            Tzero= True,\n",
    "            x_text= 1.0,\n",
    "            y_text= 0.175,\n",
    "            publication= False,\n",
    "            errorbar= True,\n",
    "            save= False,\n",
    "            loc_legend= 'upper right',\n",
    "            NN_path= 'NN_trained_models/L100_NN_Ising2D_MC.pt')"
   ]
  },
  {
   "cell_type": "markdown",
   "metadata": {},
   "source": [
    "Saving the figure with the predefined pattern for publication."
   ]
  },
  {
   "cell_type": "code",
   "execution_count": 14,
   "metadata": {},
   "outputs": [
    {
     "name": "stderr",
     "output_type": "stream",
     "text": [
      "/home/rodrigo/anaconda3/lib/python3.6/site-packages/torch/serialization.py:425: SourceChangeWarning: source code of class 'net.Net' has changed. you can retrieve the original source code by accessing the object's source attribute or set `torch.nn.Module.dump_patches = True` and use the patch tool to revert the changes.\n",
      "  warnings.warn(msg, SourceChangeWarning)\n"
     ]
    },
    {
     "data": {
      "image/png": "[encoded data removed]",
      "text/plain": [
       "<Figure size 243x164.754 with 1 Axes>"
      ]
     },
     "metadata": {},
     "output_type": "display_data"
    }
   ],
   "source": [
    "thermometer(flow_,\n",
    "            ising_data,\n",
    "            L= 100,\n",
    "            x= 0,\n",
    "            step= 5,\n",
    "            Tzero= True,\n",
    "            x_text= 1.0,\n",
    "            y_text= 0.175,\n",
    "            publication= True,\n",
    "            errorbar= True,\n",
    "            save= True,\n",
    "            loc_legend= 'upper right',\n",
    "            NN_path= 'NN_trained_models/L100_NN_Ising2D_MC.pt')"
   ]
  },
  {
   "cell_type": "code",
   "execution_count": 21,
   "metadata": {},
   "outputs": [],
   "source": [
    "del flow_\n",
    "torch.cuda.empty_cache()"
   ]
  },
  {
   "cell_type": "markdown",
   "metadata": {},
   "source": [
    "#### Initial temperature: $T = \\infty$"
   ]
  },
  {
   "cell_type": "code",
   "execution_count": 6,
   "metadata": {},
   "outputs": [],
   "source": [
    "L = 100\n",
    "nstates = 1000\n",
    "\n",
    "up = nn.init.constant_(torch.empty(int(L*L/2)),\n",
    "                                     val= 1.0)\n",
    "down = nn.init.constant_(torch.empty(int(L*L/2)),\n",
    "                                     val= 0.0)\n",
    "\n",
    "up_down = torch.cat((up,down), 0)\n",
    "\n",
    "v0 = up_down.reshape(1, up_down.shape[0])\n",
    "\n",
    "for j in range(nstates - 1):\n",
    "    \n",
    "    v0_ = up_down[torch.randperm(up_down.shape[0]) ]\n",
    "    \n",
    "    v0 = torch.cat( ( v0, v0_.reshape(1, v0_.shape[0])), 0 )"
   ]
  },
  {
   "cell_type": "code",
   "execution_count": 9,
   "metadata": {},
   "outputs": [],
   "source": [
    "flow = rbm.flow(n_it_flow= 40, vk= v0)"
   ]
  },
  {
   "cell_type": "markdown",
   "metadata": {},
   "source": [
    "Perhaps we will be needing this flow for further analysis, the we save it in a pickle file."
   ]
  },
  {
   "cell_type": "code",
   "execution_count": 16,
   "metadata": {},
   "outputs": [],
   "source": [
    "with open('RBM_flows/rbm_flow_L100_ONLY_Tin_inf_it040.pkl', 'wb') as f:\n",
    "    pickle.dump(flow, f)"
   ]
  },
  {
   "cell_type": "markdown",
   "metadata": {},
   "source": [
    "Note that we use a [CUDA tensor type](https://pytorch.org/docs/stable/cuda.html), which implements GPU computation. If a GPU is not available, one should just withdraw the `cuda()` method."
   ]
  },
  {
   "cell_type": "code",
   "execution_count": 10,
   "metadata": {},
   "outputs": [],
   "source": [
    "flow__ = [ x.cuda() for x in flow ]"
   ]
  },
  {
   "cell_type": "code",
   "execution_count": 14,
   "metadata": {},
   "outputs": [
    {
     "name": "stderr",
     "output_type": "stream",
     "text": [
      "/home/rodrigo/anaconda3/lib/python3.6/site-packages/torch/serialization.py:425: SourceChangeWarning: source code of class 'net.Net' has changed. you can retrieve the original source code by accessing the object's source attribute or set `torch.nn.Module.dump_patches = True` and use the patch tool to revert the changes.\n",
      "  warnings.warn(msg, SourceChangeWarning)\n"
     ]
    },
    {
     "data": {
      "image/png": "[encoded data removed]",
      "text/plain": [
       "<Figure size 432x288 with 1 Axes>"
      ]
     },
     "metadata": {},
     "output_type": "display_data"
    }
   ],
   "source": [
    "thermometer(flow__,\n",
    "            ising_data,\n",
    "            L= 100,\n",
    "            x= 0,\n",
    "            step= 5,\n",
    "            Tzero= False,\n",
    "            x_text= 3.25,\n",
    "            y_text= 0.15,\n",
    "            publication= False,\n",
    "            errorbar= True,\n",
    "            save= True,\n",
    "            loc_legend= 'upper left',\n",
    "            NN_path= 'NN_trained_models/L100_NN_Ising2D_MC.pt')"
   ]
  },
  {
   "cell_type": "markdown",
   "metadata": {},
   "source": [
    "Saving the figure with the predefined pattern for publication."
   ]
  },
  {
   "cell_type": "code",
   "execution_count": 15,
   "metadata": {},
   "outputs": [
    {
     "name": "stderr",
     "output_type": "stream",
     "text": [
      "/home/rodrigo/anaconda3/lib/python3.6/site-packages/torch/serialization.py:425: SourceChangeWarning: source code of class 'net.Net' has changed. you can retrieve the original source code by accessing the object's source attribute or set `torch.nn.Module.dump_patches = True` and use the patch tool to revert the changes.\n",
      "  warnings.warn(msg, SourceChangeWarning)\n"
     ]
    },
    {
     "data": {
      "image/png": "[encoded data removed]",
      "text/plain": [
       "<Figure size 243x164.754 with 1 Axes>"
      ]
     },
     "metadata": {},
     "output_type": "display_data"
    }
   ],
   "source": [
    "thermometer(flow__,\n",
    "            ising_data,\n",
    "            L= 100,\n",
    "            x= 0,\n",
    "            step= 5,\n",
    "            Tzero= False,\n",
    "            x_text= 3.25,\n",
    "            y_text= 0.15,\n",
    "            publication= True,\n",
    "            errorbar= True,\n",
    "            save= True,\n",
    "            loc_legend= 'upper left',\n",
    "            NN_path= 'NN_trained_models/L100_NN_Ising2D_MC.pt')"
   ]
  },
  {
   "cell_type": "markdown",
   "metadata": {},
   "source": [
    "We also analyze the dynamics of the magnetization."
   ]
  },
  {
   "cell_type": "code",
   "execution_count": 3,
   "metadata": {},
   "outputs": [],
   "source": [
    "with open('RBM_flows/rbm_flow_L100_ONLY_Tin_zero_it040.pkl', 'rb') as f:\n",
    "    flow= pickle.load(f)\n",
    "    \n",
    "flow_ = [ x.cpu() for x in flow ]"
   ]
  },
  {
   "cell_type": "code",
   "execution_count": 4,
   "metadata": {},
   "outputs": [],
   "source": [
    "with open('RBM_flows/rbm_flow_L100_ONLY_Tin_inf_it040.pkl', 'rb') as f:\n",
    "    flow= pickle.load(f)\n",
    "    \n",
    "flow__ = [ x.cpu() for x in flow ]"
   ]
  },
  {
   "cell_type": "code",
   "execution_count": 8,
   "metadata": {},
   "outputs": [
    {
     "data": {
      "image/png": "[encoded data removed]",
      "text/plain": [
       "<Figure size 432x288 with 1 Axes>"
      ]
     },
     "metadata": {},
     "output_type": "display_data"
    }
   ],
   "source": [
    "magnetization(flow_low= flow_,\n",
    "              flow_high= flow__,\n",
    "              L= 100,\n",
    "              errorbar= True,\n",
    "              Tzero= True,\n",
    "              x = 0,\n",
    "              save= True, \n",
    "              loc_legend= 'lower right',\n",
    "              publication= False)"
   ]
  },
  {
   "cell_type": "markdown",
   "metadata": {},
   "source": [
    "We also analyze the dynamics of the magnetization."
   ]
  },
  {
   "cell_type": "code",
   "execution_count": 9,
   "metadata": {},
   "outputs": [
    {
     "data": {
      "image/png": "[encoded data removed]",
      "text/plain": [
       "<Figure size 243x164.754 with 1 Axes>"
      ]
     },
     "metadata": {},
     "output_type": "display_data"
    }
   ],
   "source": [
    "magnetization(flow_low= flow_,\n",
    "              flow_high= flow__,\n",
    "              L= 100,\n",
    "              errorbar= True,\n",
    "              Tzero= True,\n",
    "              x = 0,\n",
    "              save= True, \n",
    "              loc_legend= 'lower right',\n",
    "              publication= True)"
   ]
  },
  {
   "cell_type": "code",
   "execution_count": null,
   "metadata": {},
   "outputs": [],
   "source": []
  }
 ],
 "metadata": {
  "kernelspec": {
   "display_name": "Python 3",
   "language": "python",
   "name": "python3"
  },
  "language_info": {
   "codemirror_mode": {
    "name": "ipython",
    "version": 3
   },
   "file_extension": ".py",
   "mimetype": "text/x-python",
   "name": "python",
   "nbconvert_exporter": "python",
   "pygments_lexer": "ipython3",
   "version": "3.6.8"
  }
 },
 "nbformat": 4,
 "nbformat_minor": 2
}
