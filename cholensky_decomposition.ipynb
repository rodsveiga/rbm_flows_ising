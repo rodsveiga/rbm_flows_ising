{
 "cells": [
  {
   "cell_type": "code",
   "execution_count": 2,
   "metadata": {},
   "outputs": [],
   "source": [
    "import numpy as np\n",
    "import pandas as pd\n",
    "import matplotlib.pyplot as plt\n",
    "from scipy import stats\n",
    "from sklearn.model_selection import train_test_split\n",
    "\n",
    "from rbm import RBM\n",
    "from MC_Ising2D import IsingMC\n",
    "\n",
    "import torch\n",
    "import torch.nn as nn\n",
    "torch.manual_seed(12)\n",
    "\n",
    "L = 10"
   ]
  },
  {
   "cell_type": "code",
   "execution_count": 3,
   "metadata": {},
   "outputs": [
    {
     "name": "stderr",
     "output_type": "stream",
     "text": [
      "/home/rodrigo/anaconda3/lib/python3.6/site-packages/torch/serialization.py:425: SourceChangeWarning: source code of class 'rbm.RBM' has changed. you can retrieve the original source code by accessing the object's source attribute or set `torch.nn.Module.dump_patches = True` and use the patch tool to revert the changes.\n",
      "  warnings.warn(msg, SourceChangeWarning)\n"
     ]
    }
   ],
   "source": [
    "rbm = RBM()\n",
    "rbm = torch.load('RBM_trained_models/RBM_model_T_complete_nv100_nh100_lr1.0E-02_k1_bsize100_nepochs8000.pt',\n",
    "                 map_location= 'cpu')"
   ]
  },
  {
   "cell_type": "code",
   "execution_count": 21,
   "metadata": {},
   "outputs": [],
   "source": [
    "rbm = RBM()\n",
    "rbm = torch.load('RBM_trained_models/RBM_model_T_zero_inf_nv10000_nh10000_lr1.0E-03_k1_bsize100_nepochs1000.pt',\n",
    "                 map_location= 'cpu')"
   ]
  },
  {
   "cell_type": "code",
   "execution_count": 22,
   "metadata": {},
   "outputs": [],
   "source": [
    "W, vb, hb = rbm.parameters()"
   ]
  },
  {
   "cell_type": "code",
   "execution_count": 23,
   "metadata": {},
   "outputs": [
    {
     "data": {
      "text/plain": [
       "tensor([[-0.1111,  0.0643,  0.2242,  ..., -0.0524,  0.0321, -0.1046],\n",
       "        [-0.0394, -0.0640, -0.0288,  ...,  0.1811, -0.0071, -0.0813],\n",
       "        [-0.0256,  0.0878, -0.0194,  ..., -0.1593,  0.1736, -0.0743],\n",
       "        ...,\n",
       "        [ 0.0191,  0.0396,  0.1016,  ..., -0.0275, -0.0389, -0.0415],\n",
       "        [ 0.0560,  0.0453,  0.2024,  ...,  0.0897,  0.0512, -0.1385],\n",
       "        [-0.0061, -0.1494,  0.0128,  ...,  0.2705, -0.0838,  0.1274]])"
      ]
     },
     "execution_count": 23,
     "metadata": {},
     "output_type": "execute_result"
    }
   ],
   "source": [
    "W"
   ]
  },
  {
   "cell_type": "code",
   "execution_count": 24,
   "metadata": {},
   "outputs": [
    {
     "data": {
      "text/plain": [
       "torch.Size([10000, 10000])"
      ]
     },
     "execution_count": 24,
     "metadata": {},
     "output_type": "execute_result"
    }
   ],
   "source": [
    "W.shape"
   ]
  },
  {
   "cell_type": "code",
   "execution_count": 25,
   "metadata": {},
   "outputs": [
    {
     "data": {
      "text/plain": [
       "tensor([[-0.1111,  0.0643,  0.2242,  ..., -0.0524,  0.0321, -0.1046],\n",
       "        [-0.0394, -0.0640, -0.0288,  ...,  0.1811, -0.0071, -0.0813],\n",
       "        [-0.0256,  0.0878, -0.0194,  ..., -0.1593,  0.1736, -0.0743],\n",
       "        ...,\n",
       "        [ 0.0191,  0.0396,  0.1016,  ..., -0.0275, -0.0389, -0.0415],\n",
       "        [ 0.0560,  0.0453,  0.2024,  ...,  0.0897,  0.0512, -0.1385],\n",
       "        [-0.0061, -0.1494,  0.0128,  ...,  0.2705, -0.0838,  0.1274]])"
      ]
     },
     "execution_count": 25,
     "metadata": {},
     "output_type": "execute_result"
    }
   ],
   "source": [
    "W"
   ]
  },
  {
   "cell_type": "code",
   "execution_count": 35,
   "metadata": {},
   "outputs": [
    {
     "ename": "RuntimeError",
     "evalue": "Lapack Error in potrf : the leading minor of order 1 is not positive definite at /opt/conda/conda-bld/pytorch_1533672544752/work/aten/src/TH/generic/THTensorLapack.cpp:626",
     "output_type": "error",
     "traceback": [
      "\u001b[0;31m---------------------------------------------------------------------------\u001b[0m",
      "\u001b[0;31mRuntimeError\u001b[0m                              Traceback (most recent call last)",
      "\u001b[0;32m<ipython-input-35-fadc1f2a2e0a>\u001b[0m in \u001b[0;36m<module>\u001b[0;34m()\u001b[0m\n\u001b[0;32m----> 1\u001b[0;31m \u001b[0mtorch\u001b[0m\u001b[0;34m.\u001b[0m\u001b[0mpotrf\u001b[0m\u001b[0;34m(\u001b[0m\u001b[0mW_\u001b[0m\u001b[0;34m)\u001b[0m\u001b[0;34m\u001b[0m\u001b[0;34m\u001b[0m\u001b[0m\n\u001b[0m",
      "\u001b[0;31mRuntimeError\u001b[0m: Lapack Error in potrf : the leading minor of order 1 is not positive definite at /opt/conda/conda-bld/pytorch_1533672544752/work/aten/src/TH/generic/THTensorLapack.cpp:626"
     ]
    }
   ],
   "source": [
    "torch.potrf(W_)"
   ]
  },
  {
   "cell_type": "code",
   "execution_count": 12,
   "metadata": {},
   "outputs": [
    {
     "data": {
      "text/plain": [
       "0.13943813741207123"
      ]
     },
     "execution_count": 12,
     "metadata": {},
     "output_type": "execute_result"
    }
   ],
   "source": [
    "W[3,4].item()"
   ]
  },
  {
   "cell_type": "code",
   "execution_count": 14,
   "metadata": {},
   "outputs": [
    {
     "data": {
      "text/plain": [
       "100"
      ]
     },
     "execution_count": 14,
     "metadata": {},
     "output_type": "execute_result"
    }
   ],
   "source": [
    "W.shape[0]"
   ]
  },
  {
   "cell_type": "code",
   "execution_count": 28,
   "metadata": {},
   "outputs": [],
   "source": [
    "for j in range(W.shape[0]):\n",
    "    for k in range(W.shape[0]):\n",
    "        if j != k:\n",
    "            \n",
    "            if W[j,k].item() != W[j,k].item():\n",
    "                print(j)\n",
    "                print(k)\n",
    "                break"
   ]
  },
  {
   "cell_type": "code",
   "execution_count": 31,
   "metadata": {},
   "outputs": [],
   "source": [
    "import numpy as np\n",
    "\n",
    "def is_pos_def(x):\n",
    "    return np.all(np.linalg.eigvals(x) >= 0)"
   ]
  },
  {
   "cell_type": "code",
   "execution_count": 32,
   "metadata": {},
   "outputs": [
    {
     "data": {
      "text/plain": [
       "array([[-0.11110839,  0.06434952,  0.2242005 , ..., -0.05236919,\n",
       "         0.03210198, -0.10458258],\n",
       "       [-0.03943063, -0.06395333, -0.02875776, ...,  0.18106578,\n",
       "        -0.00712755, -0.0813032 ],\n",
       "       [-0.025645  ,  0.08782783, -0.01941821, ..., -0.15932715,\n",
       "         0.1735835 , -0.07432071],\n",
       "       ...,\n",
       "       [ 0.01913099,  0.03962976,  0.10158475, ..., -0.02745914,\n",
       "        -0.03891495, -0.04150459],\n",
       "       [ 0.05596967,  0.04529618,  0.20240082, ...,  0.08966662,\n",
       "         0.0512402 , -0.13853505],\n",
       "       [-0.00605863, -0.14944518,  0.0128254 , ...,  0.2705383 ,\n",
       "        -0.08378427,  0.12739433]], dtype=float32)"
      ]
     },
     "execution_count": 32,
     "metadata": {},
     "output_type": "execute_result"
    }
   ],
   "source": [
    "W.numpy()"
   ]
  },
  {
   "cell_type": "code",
   "execution_count": 33,
   "metadata": {},
   "outputs": [
    {
     "data": {
      "text/plain": [
       "False"
      ]
     },
     "execution_count": 33,
     "metadata": {},
     "output_type": "execute_result"
    }
   ],
   "source": [
    "is_pos_def(W.numpy())"
   ]
  },
  {
   "cell_type": "code",
   "execution_count": 34,
   "metadata": {},
   "outputs": [],
   "source": [
    "W_ = (W + W.t())/2"
   ]
  },
  {
   "cell_type": "code",
   "execution_count": 9,
   "metadata": {},
   "outputs": [
    {
     "data": {
      "text/plain": [
       "tensor([[ 0.5038, -0.5591, -0.8822],\n",
       "        [ 0.0000,  1.3979,  0.3537],\n",
       "        [ 0.0000,  0.0000,  2.3173]])"
      ]
     },
     "execution_count": 9,
     "metadata": {},
     "output_type": "execute_result"
    }
   ],
   "source": [
    "a = torch.randn(3, 3)\n",
    "a = torch.mm(a, a.t()) # make symmetric positive-definite\n",
    "l = torch.potrf(a)\n",
    "l"
   ]
  },
  {
   "cell_type": "code",
   "execution_count": 10,
   "metadata": {},
   "outputs": [
    {
     "name": "stdout",
     "output_type": "stream",
     "text": [
      "0.4.1\n"
     ]
    }
   ],
   "source": [
    "print(torch.__version__)"
   ]
  },
  {
   "cell_type": "code",
   "execution_count": null,
   "metadata": {},
   "outputs": [],
   "source": []
  }
 ],
 "metadata": {
  "kernelspec": {
   "display_name": "Python 3",
   "language": "python",
   "name": "python3"
  },
  "language_info": {
   "codemirror_mode": {
    "name": "ipython",
    "version": 3
   },
   "file_extension": ".py",
   "mimetype": "text/x-python",
   "name": "python",
   "nbconvert_exporter": "python",
   "pygments_lexer": "ipython3",
   "version": "3.6.8"
  }
 },
 "nbformat": 4,
 "nbformat_minor": 2
}
