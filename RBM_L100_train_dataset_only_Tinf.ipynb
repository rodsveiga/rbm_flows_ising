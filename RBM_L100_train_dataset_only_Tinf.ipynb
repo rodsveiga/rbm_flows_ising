{
 "cells": [
  {
   "cell_type": "markdown",
   "metadata": {},
   "source": [
    "# RBM training - Dataset with $ T = \\infty$\n",
    "\n",
    "In order to investigate the RBM flow in an extreme situation, we train the machine in an dataset composed only byrandom states. This still does not satisfy the condition shown in the work [Scale-invariant Feature Extraction of Neural Network and Renormalization Group Flow](https://arxiv.org/abs/1801.07172): the RBM flow would go towards the critical value if the data training set has states with temperature values less and greater than the critical one.\n",
    "\n",
    "It is crucial to note that, since the visible layer is always fed with an unidimensional vector (an array is transformed in a vector to be fed in the visible layer), the machine does not have any geometric information about the lattice in this case."
   ]
  },
  {
   "cell_type": "code",
   "execution_count": 1,
   "metadata": {},
   "outputs": [],
   "source": [
    "import numpy as np\n",
    "import pandas as pd\n",
    "import matplotlib.pyplot as plt\n",
    "from scipy import stats\n",
    "from sklearn.model_selection import train_test_split\n",
    "\n",
    "from rbm import RBM\n",
    "from MC_Ising2D import IsingMC\n",
    "\n",
    "import torch\n",
    "import torch.nn as nn\n",
    "torch.manual_seed(12)\n",
    "\n",
    "L = 100"
   ]
  },
  {
   "cell_type": "markdown",
   "metadata": {},
   "source": [
    "#### Random configurations:"
   ]
  },
  {
   "cell_type": "code",
   "execution_count": 2,
   "metadata": {},
   "outputs": [],
   "source": [
    "nstates = 1000\n",
    "\n",
    "up = nn.init.constant_(torch.empty(int(L*L/2)),\n",
    "                                     val= 1.0)\n",
    "down = nn.init.constant_(torch.empty(int(L*L/2)),\n",
    "                                     val= 0.0)\n",
    "\n",
    "up_down = torch.cat((up,down), 0)\n",
    "\n",
    "data_set_high = up_down.reshape(1, up_down.shape[0])\n",
    "\n",
    "for j in range(nstates - 1):\n",
    "    \n",
    "    data_set_high_ = up_down[torch.randperm(up_down.shape[0]) ]\n",
    "    \n",
    "    data_set_high = torch.cat( ( data_set_high, data_set_high_.reshape(1, data_set_high_.shape[0])), 0 )"
   ]
  },
  {
   "cell_type": "markdown",
   "metadata": {},
   "source": [
    "#### Constructing training and test sets\n",
    "\n",
    "Using `train_test_split` from [`sklearn`](http://scikit-learn.org/) it is easy to split the data into training and test sets."
   ]
  },
  {
   "cell_type": "code",
   "execution_count": 4,
   "metadata": {},
   "outputs": [],
   "source": [
    "train_data, test_data = train_test_split(np.array(data_set_high),\n",
    "                                         test_size= 0.2,\n",
    "                                         random_state= 12)"
   ]
  },
  {
   "cell_type": "code",
   "execution_count": 5,
   "metadata": {},
   "outputs": [],
   "source": [
    "training_set = torch.Tensor(train_data)\n",
    "test_set = torch.Tensor(test_data)\n",
    "\n",
    "training_set = training_set[torch.randperm(training_set.size()[0])]"
   ]
  },
  {
   "cell_type": "markdown",
   "metadata": {},
   "source": [
    "#### Training the model\n",
    "\n",
    "Our code implementing a Restricted Boltzmann Machine is written a python class called `RBM` which is imported from `rbm.py`.\n",
    "\n",
    "For simplification, the units have no bias and the RBM stochasticity parameter, represented below by $T$ is set to unity, as usual in most practical applications. Note that we set `use_cuda=True`, which makes use of [CUDA tensor types](https://pytorch.org/docs/stable/cuda.html), implementing GPU computation. If a GPU is not available, one should just set `use_cuda=False`."
   ]
  },
  {
   "cell_type": "code",
   "execution_count": 6,
   "metadata": {},
   "outputs": [
    {
     "name": "stdout",
     "output_type": "stream",
     "text": [
      "RBM --- Nv= 10000, Nh= 10000, lr= 1.0E-03, k= 1, Bsize= 100, Epochs= 1000, USE_CUDA= True, verbose= 1\n",
      "Starting training\n",
      "Ep 1, Rec er: 0.301479 (train), 0.274352 (test), Pseud_Lik: -7260.848870, Time: 16.754849, \n",
      "Ep 2, Rec er: 0.273018 (train), 0.275451 (test), Pseud_Lik: -6560.936036, Time: 10.421162, \n",
      "Ep 3, Rec er: 0.276327 (train), 0.280537 (test), Pseud_Lik: -7048.409230, Time: 11.342332, \n",
      "Ep 4, Rec er: 0.281338 (train), 0.287343 (test), Pseud_Lik: -6375.926961, Time: 10.823742, \n",
      "Ep 5, Rec er: 0.287207 (train), 0.293576 (test), Pseud_Lik: -6627.489896, Time: 12.273380, \n",
      "Ep 6, Rec er: 0.293374 (train), 0.299841 (test), Pseud_Lik: -7417.092425, Time: 12.657241, \n",
      "Ep 7, Rec er: 0.299383 (train), 0.306514 (test), Pseud_Lik: -7059.256587, Time: 12.593630, \n",
      "Ep 8, Rec er: 0.305262 (train), 0.313127 (test), Pseud_Lik: -6152.893304, Time: 11.459582, \n",
      "Ep 9, Rec er: 0.311302 (train), 0.319548 (test), Pseud_Lik: -6663.091806, Time: 12.514888, \n",
      "Ep 10, Rec er: 0.317383 (train), 0.324968 (test), Pseud_Lik: -6381.795234, Time: 11.333837, \n",
      "Ep 11, Rec er: 0.323016 (train), 0.331381 (test), Pseud_Lik: -6218.780214, Time: 9.992111, \n",
      "Ep 12, Rec er: 0.328527 (train), 0.337217 (test), Pseud_Lik: -6630.005375, Time: 10.992166, \n",
      "Ep 13, Rec er: 0.333611 (train), 0.342716 (test), Pseud_Lik: -6856.653202, Time: 10.638961, \n",
      "Ep 14, Rec er: 0.338746 (train), 0.347878 (test), Pseud_Lik: -6364.994473, Time: 10.092856, \n",
      "Ep 15, Rec er: 0.343470 (train), 0.353054 (test), Pseud_Lik: -6310.579305, Time: 10.868691, \n",
      "Ep 16, Rec er: 0.347760 (train), 0.357558 (test), Pseud_Lik: -6801.168145, Time: 10.338213, \n",
      "Ep 17, Rec er: 0.352427 (train), 0.361156 (test), Pseud_Lik: -6324.592829, Time: 11.070249, \n",
      "Ep 18, Rec er: 0.355805 (train), 0.365071 (test), Pseud_Lik: -6653.201435, Time: 10.579943, \n",
      "Ep 19, Rec er: 0.359571 (train), 0.368954 (test), Pseud_Lik: -6245.731808, Time: 11.526350, \n",
      "Ep 20, Rec er: 0.363115 (train), 0.372146 (test), Pseud_Lik: -7132.150322, Time: 10.807535, \n",
      "Ep 21, Rec er: 0.366062 (train), 0.375687 (test), Pseud_Lik: -6501.020804, Time: 10.353069, \n",
      "Ep 22, Rec er: 0.369321 (train), 0.378716 (test), Pseud_Lik: -6570.060125, Time: 10.153419, \n"
     ]
    },
    {
     "ename": "KeyboardInterrupt",
     "evalue": "",
     "output_type": "error",
     "traceback": [
      "\u001b[0;31m---------------------------------------------------------------------------\u001b[0m",
      "\u001b[0;31mKeyboardInterrupt\u001b[0m                         Traceback (most recent call last)",
      "\u001b[0;32m<ipython-input-6-60967d69f3cf>\u001b[0m in \u001b[0;36m<module>\u001b[0;34m()\u001b[0m\n\u001b[1;32m     21\u001b[0m           \u001b[0mk_learning\u001b[0m\u001b[0;34m=\u001b[0m \u001b[0mk_learning\u001b[0m\u001b[0;34m,\u001b[0m\u001b[0;34m\u001b[0m\u001b[0;34m\u001b[0m\u001b[0m\n\u001b[1;32m     22\u001b[0m           \u001b[0mk_sampling\u001b[0m\u001b[0;34m=\u001b[0m \u001b[0mk_sampling\u001b[0m\u001b[0;34m,\u001b[0m\u001b[0;34m\u001b[0m\u001b[0;34m\u001b[0m\u001b[0m\n\u001b[0;32m---> 23\u001b[0;31m           verbose= 1)\n\u001b[0m",
      "\u001b[0;32m~/Dropbox/DOC/rbm_flows_ising/rbm.py\u001b[0m in \u001b[0;36mlearn\u001b[0;34m(self, training_set, lr, nb_epoch, batch_size, k_learning, test_set, k_sampling, FE_dif, verbose, tensorboard)\u001b[0m\n\u001b[1;32m    264\u001b[0m \u001b[0;34m\u001b[0m\u001b[0m\n\u001b[1;32m    265\u001b[0m                     \u001b[0;31m# Reconstruction error\u001b[0m\u001b[0;34m\u001b[0m\u001b[0;34m\u001b[0m\u001b[0;34m\u001b[0m\u001b[0m\n\u001b[0;32m--> 266\u001b[0;31m                     \u001b[0mtrain_loss\u001b[0m \u001b[0;34m+=\u001b[0m \u001b[0mtorch\u001b[0m\u001b[0;34m.\u001b[0m\u001b[0mmean\u001b[0m\u001b[0;34m(\u001b[0m \u001b[0;34m(\u001b[0m\u001b[0mv0\u001b[0m \u001b[0;34m-\u001b[0m \u001b[0mvk\u001b[0m\u001b[0;34m)\u001b[0m\u001b[0;34m**\u001b[0m\u001b[0;36m2\u001b[0m \u001b[0;34m)\u001b[0m\u001b[0;34m.\u001b[0m\u001b[0mitem\u001b[0m\u001b[0;34m(\u001b[0m\u001b[0;34m)\u001b[0m\u001b[0;34m\u001b[0m\u001b[0;34m\u001b[0m\u001b[0m\n\u001b[0m\u001b[1;32m    267\u001b[0m \u001b[0;34m\u001b[0m\u001b[0m\n\u001b[1;32m    268\u001b[0m                     \u001b[0;31m# Pseudo-likelihood\u001b[0m\u001b[0;34m\u001b[0m\u001b[0;34m\u001b[0m\u001b[0;34m\u001b[0m\u001b[0m\n",
      "\u001b[0;31mKeyboardInterrupt\u001b[0m: "
     ]
    }
   ],
   "source": [
    "Nv = training_set.shape[1]\n",
    "Nh = training_set.shape[1]\n",
    "\n",
    "lr = 0.001\n",
    "k_learning = 1\n",
    "batch_size = 100\n",
    "nb_epoch = 1000\n",
    "k_sampling = 1\n",
    "\n",
    "rbm = RBM(num_visible= Nv, \n",
    "          num_hidden= Nh, \n",
    "          bias= False,\n",
    "          T= 1.0,\n",
    "          use_cuda= True)\n",
    "    \n",
    "rbm.learn(training_set= training_set,\n",
    "          test_set = test_set,\n",
    "          lr= lr, \n",
    "          nb_epoch= nb_epoch, \n",
    "          batch_size= batch_size,\n",
    "          k_learning= k_learning,\n",
    "          k_sampling= k_sampling,\n",
    "          verbose= 1)"
   ]
  },
  {
   "cell_type": "markdown",
   "metadata": {},
   "source": [
    "#### Saving the trained model"
   ]
  },
  {
   "cell_type": "code",
   "execution_count": 7,
   "metadata": {},
   "outputs": [],
   "source": [
    "nb_epoch = rbm.num_train_epochs()\n",
    "\n",
    "name = 'RBM_model_inf_T_nv%d_nh%d_lr%.1E_k%d_bsize%d_nepochs%d' % (Nv,\n",
    "                                                                   Nh,\n",
    "                                                                   lr,\n",
    "                                                                   k_learning,\n",
    "                                                                   batch_size,\n",
    "                                                                   nb_epoch)\n",
    "\n",
    "PATH = 'RBM_trained_models/'+ name + '.pt'\n",
    "\n",
    "torch.save(rbm, PATH)"
   ]
  },
  {
   "cell_type": "markdown",
   "metadata": {},
   "source": [
    "### Weights distribution"
   ]
  },
  {
   "cell_type": "code",
   "execution_count": 8,
   "metadata": {},
   "outputs": [],
   "source": [
    "W, v, h = rbm.parameters()\n",
    "\n",
    "del v\n",
    "del h\n",
    "torch.cuda.empty_cache()"
   ]
  },
  {
   "cell_type": "code",
   "execution_count": 9,
   "metadata": {},
   "outputs": [
    {
     "data": {
      "image/png": "[encoded data removed]",
      "text/plain": [
       "<Figure size 432x288 with 1 Axes>"
      ]
     },
     "metadata": {},
     "output_type": "display_data"
    }
   ],
   "source": [
    "W_ = W.cpu().numpy().reshape((W.shape[0]*W.shape[1]))\n",
    "\n",
    "# Plot normalized histogram \n",
    "plt.hist(W_, bins= 100, density= True)\n",
    "\n",
    "# Maximum and minimum of xticks to compute the theoretical distribution \n",
    "x_min, x_max = min(plt.xticks()[0]), max(plt.xticks()[0])  \n",
    "domain = np.linspace(x_min, x_max, len(W_))\n",
    "\n",
    "# Fitting a normal distribution\n",
    "muW_, sigmaW_ = stats.norm.fit(W_) \n",
    "\n",
    "plot_pdf = stats.norm.pdf(domain, muW_, sigmaW_) # Fitting the PDF in the interval\n",
    "\n",
    "\n",
    "plt.plot(domain, plot_pdf, linewidth= 2.5,\n",
    "         label= '$\\mu= %f$ \\n$\\sigma^2$ = %f' % (muW_, sigmaW_**2 ))\n",
    "\n",
    "plt.title('Fitting a Normal Distribution for the weights ${\\cal W}$')\n",
    "plt.legend()\n",
    "plt.show()"
   ]
  },
  {
   "cell_type": "code",
   "execution_count": 10,
   "metadata": {},
   "outputs": [],
   "source": [
    "del W\n",
    "torch.cuda.empty_cache()"
   ]
  },
  {
   "cell_type": "code",
   "execution_count": null,
   "metadata": {},
   "outputs": [],
   "source": []
  }
 ],
 "metadata": {
  "kernelspec": {
   "display_name": "Python 3",
   "language": "python",
   "name": "python3"
  },
  "language_info": {
   "codemirror_mode": {
    "name": "ipython",
    "version": 3
   },
   "file_extension": ".py",
   "mimetype": "text/x-python",
   "name": "python",
   "nbconvert_exporter": "python",
   "pygments_lexer": "ipython3",
   "version": "3.6.8"
  }
 },
 "nbformat": 4,
 "nbformat_minor": 2
}
